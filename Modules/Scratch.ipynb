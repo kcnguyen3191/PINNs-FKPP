{
 "cells": [
  {
   "cell_type": "code",
   "execution_count": 1,
   "metadata": {},
   "outputs": [],
   "source": [
    "import sys\n",
    "sys.path.append('../')\n",
    "\n",
    "from Utils.Imports import *\n",
    "import tensorflow as tf\n",
    "\n",
    "from Losses.BruteForceChamfer import BruteForceChamfer\n",
    "from Losses.BruteForceChamferTF import BruteForceChamferTF"
   ]
  },
  {
   "cell_type": "code",
   "execution_count": 5,
   "metadata": {},
   "outputs": [
    {
     "name": "stdout",
     "output_type": "stream",
     "text": [
      "array1 =\n",
      "[[1 3 0 0]\n",
      " [3 1 3 1]\n",
      " [3 0 0 1]\n",
      " [0 3 1 0]\n",
      " [2 1 2 0]]\n",
      "array2 =\n",
      "[[2 1 2 0]\n",
      " [3 0 2 0]\n",
      " [1 2 2 0]]\n",
      "\n",
      "tensor([0.0000, 1.4142, 1.4142])\n",
      "tensor([2.2361, 1.7321, 2.2361, 1.7321, 0.0000])\n",
      "tensor([4, 4, 4])\n",
      "tensor([2, 1, 1, 2, 0])\n",
      "\n",
      "[0.         1.41421356 1.41421356]\n",
      "[2.23606798 1.73205081 2.23606798 1.73205081 0.        ]\n",
      "[4 4 4]\n",
      "[2 0 1 2 0]\n"
     ]
    }
   ],
   "source": [
    "# torch vs tensorflow chamfer distance unit test\n",
    "\n",
    "num_point1 = 5\n",
    "num_point2 = 3\n",
    "num_features = 4\n",
    "np.random.seed(1)\n",
    "array1 = np.random.randint(0, high=4, size=(num_point1, num_features))\n",
    "array2 = np.random.randint(0, high=4, size=(num_point2, num_features))\n",
    "print('array1 =')\n",
    "print(array1)\n",
    "print('array2 =')\n",
    "print(array2)\n",
    "print()\n",
    "\n",
    "array1_pt = torch.from_numpy(array1).float()\n",
    "array2_pt = torch.from_numpy(array2).float()\n",
    "dist1, dist2, idx1, idx2 = BruteForceChamfer(array1_pt, array2_pt)\n",
    "print(dist1) \n",
    "print(dist2) \n",
    "print(idx1) \n",
    "print(idx2)\n",
    "print()\n",
    "\n",
    "array1_tf = tf.constant(array1, dtype=tf.float64)\n",
    "array2_tf = tf.constant(array2, dtype=tf.float64)\n",
    "dist1, dist2, idx1, idx2 = BruteForceChamferTF(array1_tf, array2_tf)\n",
    "\n",
    "with tf.Session() as sess:\n",
    "    print(sess.run(dist1))\n",
    "    print(sess.run(dist2))\n",
    "    print(sess.run(idx1))\n",
    "    print(sess.run(idx2))"
   ]
  },
  {
   "cell_type": "code",
   "execution_count": null,
   "metadata": {},
   "outputs": [],
   "source": []
  }
 ],
 "metadata": {
  "kernelspec": {
   "display_name": "Python 3",
   "language": "python",
   "name": "python3"
  },
  "language_info": {
   "codemirror_mode": {
    "name": "ipython",
    "version": 3
   },
   "file_extension": ".py",
   "mimetype": "text/x-python",
   "name": "python",
   "nbconvert_exporter": "python",
   "pygments_lexer": "ipython3",
   "version": "3.6.8"
  }
 },
 "nbformat": 4,
 "nbformat_minor": 4
}
